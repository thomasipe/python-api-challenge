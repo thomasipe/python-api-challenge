{
 "cells": [
  {
   "cell_type": "markdown",
   "metadata": {},
   "source": [
    "# WeatherPy\n",
    "----\n",
    "\n",
    "#### Note\n",
    "* Instructions have been included for each segment. You do not have to follow them exactly, but they are included to help you think through the steps."
   ]
  },
  {
   "cell_type": "code",
   "execution_count": 38,
   "metadata": {
    "scrolled": true
   },
   "outputs": [],
   "source": [
    "# Dependencies and Setup\n",
    "import matplotlib.pyplot as plt\n",
    "import pandas as pd\n",
    "import numpy as np\n",
    "import requests\n",
    "import json\n",
    "import time\n",
    "from scipy.stats import linregress\n",
    "\n",
    "# Import API key\n",
    "from api_keys import weather_api_key\n",
    "\n",
    "# Incorporated citipy to determine city based on latitude and longitude\n",
    "from citipy import citipy\n",
    "\n",
    "# Output File (CSV)\n",
    "output_data_file = \"output_data/cities.csv\"\n",
    "\n",
    "# Range of latitudes and longitudes\n",
    "lat_range = (-90, 90)\n",
    "lng_range = (-180, 180)"
   ]
  },
  {
   "cell_type": "markdown",
   "metadata": {},
   "source": [
    "## Generate Cities List"
   ]
  },
  {
   "cell_type": "code",
   "execution_count": 43,
   "metadata": {},
   "outputs": [
    {
     "data": {
      "text/plain": [
       "628"
      ]
     },
     "execution_count": 43,
     "metadata": {},
     "output_type": "execute_result"
    }
   ],
   "source": [
    "# List for holding lat_lngs and cities\n",
    "lat_lngs = []\n",
    "cities = []\n",
    "\n",
    "# Create a set of random lat and lng combinations\n",
    "lats = np.random.uniform(lat_range[0], lat_range[1], size=1500)\n",
    "lngs = np.random.uniform(lng_range[0], lng_range[1], size=1500)\n",
    "lat_lngs = zip(lats, lngs)\n",
    "\n",
    "# Identify nearest city for each lat, lng combination\n",
    "for lat_lng in lat_lngs:\n",
    "    city = citipy.nearest_city(lat_lng[0], lat_lng[1]).city_name\n",
    "    \n",
    "    # If the city is unique, then add it to a our cities list\n",
    "    if city not in cities:\n",
    "        cities.append(city)\n",
    "\n",
    "# Print the city count to confirm sufficient count\n",
    "len(cities)"
   ]
  },
  {
   "cell_type": "code",
   "execution_count": 48,
   "metadata": {},
   "outputs": [
    {
     "name": "stdout",
     "output_type": "stream",
     "text": [
      "{\n",
      "    \"base\": \"stations\",\n",
      "    \"clouds\": {\n",
      "        \"all\": 3\n",
      "    },\n",
      "    \"cod\": 200,\n",
      "    \"coord\": {\n",
      "        \"lat\": -0.18,\n",
      "        \"lon\": -50.05\n",
      "    },\n",
      "    \"dt\": 1608471955,\n",
      "    \"id\": 3385980,\n",
      "    \"main\": {\n",
      "        \"feels_like\": 92.5,\n",
      "        \"grnd_level\": 1010,\n",
      "        \"humidity\": 59,\n",
      "        \"pressure\": 1011,\n",
      "        \"sea_level\": 1011,\n",
      "        \"temp\": 87.44,\n",
      "        \"temp_max\": 87.44,\n",
      "        \"temp_min\": 87.44\n",
      "    },\n",
      "    \"name\": \"Tucum\\u00e3\",\n",
      "    \"sys\": {\n",
      "        \"country\": \"BR\",\n",
      "        \"sunrise\": 1608455645,\n",
      "        \"sunset\": 1608499317\n",
      "    },\n",
      "    \"timezone\": -10800,\n",
      "    \"visibility\": 10000,\n",
      "    \"weather\": [\n",
      "        {\n",
      "            \"description\": \"clear sky\",\n",
      "            \"icon\": \"01d\",\n",
      "            \"id\": 800,\n",
      "            \"main\": \"Clear\"\n",
      "        }\n",
      "    ],\n",
      "    \"wind\": {\n",
      "        \"deg\": 86,\n",
      "        \"speed\": 5.79\n",
      "    }\n",
      "}\n"
     ]
    }
   ],
   "source": [
    "# Save config information\n",
    "url = \"http://api.openweathermap.org/data/2.5/weather?\"\n",
    "#city = \"London\"\n",
    "units = \"imperial\"\n",
    "# Build query URL\n",
    "query_url = url + \"appid=\" + weather_api_key + \"&q=\" + city\n",
    "query_url = url + \"appid=\" + weather_api_key + \"&q=\" + city + \"&units=\" + unit\n",
    "\n",
    "# Get weather data\n",
    "weather_response = requests.get(query_url)\n",
    "weather_json = weather_response.json()\n",
    "\n",
    "# Get the temperature from the response\n",
    "#print(f\"The weather API responded with: {weather_json}.\")\n",
    "\n",
    "# Pretty Print the output of the JSON\n",
    "response = requests.get(url).json()\n",
    "print(json.dumps(weather_json, indent=4, sort_keys=True))\n",
    "\n",
    "#print(f\"The latitude information received is: {lat}\")\n",
    "#print(f\"The temperature information received is: {temp}\")\n",
    "\n",
    "# Get temperature from JSON response\n",
    "#temperature = weather_json[\"main\"][\"temp\"]\n",
    "#print(f\"The temperatue in {city} is {temperature}F\")"
   ]
  },
  {
   "cell_type": "markdown",
   "metadata": {},
   "source": [
    "### Perform API Calls\n",
    "* Perform a weather check on each city using a series of successive API calls.\n",
    "* Include a print log of each city as it'sbeing processed (with the city number and city name).\n"
   ]
  },
  {
   "cell_type": "code",
   "execution_count": 65,
   "metadata": {
    "scrolled": true
   },
   "outputs": [
    {
     "name": "stdout",
     "output_type": "stream",
     "text": [
      "Processing Record 0 | Temp in saint-philippe is 74.19 \n",
      "Processing Record 1 | Temp in sinnamary is 82.92 \n",
      "Processing Record 2 | Temp in atuona is 78.37 \n",
      "Processing Record 3 | Temp in kaeo is 59 \n",
      "Processing Record 4 | Temp in hobyo is 79.12 \n",
      "Processing Record 5 | Temp in new norfolk is 48.2 \n",
      "Processing Record 6 | Temp in lazaro cardenas is 82.65 \n",
      "Processing Record 7 | Temp in ribeira grande is 66.2 \n",
      "Processing Record 8 | Temp in hobart is 48.58 \n",
      "Processing Record 9 | Temp in kapaa is 72.79 \n",
      "Processing Record 10 | Temp in uhlove is 38.64 \n",
      "Data not found in record:11, Skipping...\n",
      "Processing Record 11 | Temp in bengkulu is 74.98 \n",
      "Processing Record 12 | Temp in ushuaia is 62.6 \n",
      "Processing Record 13 | Temp in tall kayf is 47.43 \n",
      "Processing Record 14 | Temp in swift current is 37.4 \n",
      "Processing Record 15 | Temp in abu samrah is 54.68 \n",
      "Data not found in record:16, Skipping...\n",
      "Processing Record 16 | Temp in souillac is 78.8 \n",
      "Processing Record 17 | Temp in albany is 30.16 \n",
      "Processing Record 18 | Temp in chokurdakh is -17.75 \n",
      "Processing Record 19 | Temp in yumbel is 69.98 \n",
      "Processing Record 20 | Temp in saldanha is 77 \n",
      "Processing Record 21 | Temp in longjiang is 15.28 \n",
      "Processing Record 22 | Temp in avarua is 71.6 \n",
      "Processing Record 23 | Temp in bubaque is 80.83 \n",
      "Processing Record 24 | Temp in punta arenas is 59 \n",
      "Processing Record 25 | Temp in hambantota is 77.72 \n",
      "Data not found in record:26, Skipping...\n",
      "Processing Record 26 | Temp in carnarvon is 77 \n",
      "Data not found in record:27, Skipping...\n",
      "Processing Record 27 | Temp in necochea is 63 \n",
      "Processing Record 28 | Temp in katsuura is 38.59 \n",
      "Processing Record 29 | Temp in yellowknife is -19.32 \n",
      "Processing Record 30 | Temp in ayan is 1.36 \n",
      "Processing Record 31 | Temp in nanortalik is 26.04 \n",
      "Processing Record 32 | Temp in yibin is 43.32 \n",
      "Processing Record 33 | Temp in nikolskoye is 34.18 \n",
      "Processing Record 34 | Temp in busselton is 54.63 \n",
      "Processing Record 35 | Temp in kodiak is 15.8 \n",
      "Processing Record 36 | Temp in rawson is 73.72 \n",
      "Processing Record 37 | Temp in karratha is 87.35 \n",
      "Processing Record 38 | Temp in lamar is 48.58 \n",
      "Processing Record 39 | Temp in puerto quijarro is 102.88 \n",
      "Processing Record 40 | Temp in provideniya is -4.72 \n",
      "Processing Record 41 | Temp in benguela is 80.6 \n",
      "Processing Record 42 | Temp in castro is 83.61 \n",
      "Processing Record 43 | Temp in saint george is 28.4 \n",
      "Processing Record 44 | Temp in la ronge is -3.1 \n",
      "Processing Record 45 | Temp in qaanaaq is -1.61 \n",
      "Processing Record 46 | Temp in kasane is 82.4 \n",
      "Data not found in record:47, Skipping...\n",
      "Data not found in record:47, Skipping...\n",
      "Processing Record 47 | Temp in mecca is 76.75 \n",
      "Processing Record 48 | Temp in willmar is 32.63 \n",
      "Processing Record 49 | Temp in homer is 24.58 \n",
      "Processing Record 50 | Temp in salinopolis is 85.21 \n",
      "Processing Record 51 | Temp in vaini is 77 \n",
      "Processing Record 52 | Temp in kismayo is 79.59 \n",
      "Processing Record 53 | Temp in hun is 64.74 \n",
      "Processing Record 54 | Temp in bluff is 46 \n",
      "Processing Record 55 | Temp in leningradskiy is -1.32 \n",
      "Processing Record 56 | Temp in lompoc is 40.03 \n",
      "Processing Record 57 | Temp in emerald is 77.56 \n",
      "Processing Record 58 | Temp in umm lajj is 75.56 \n",
      "Processing Record 59 | Temp in puerto ayora is 75.78 \n",
      "Processing Record 60 | Temp in port alfred is 73 \n",
      "Processing Record 61 | Temp in bodden town is 82 \n",
      "Processing Record 62 | Temp in suixi is 34.18 \n",
      "Processing Record 63 | Temp in airai is 62.13 \n",
      "Processing Record 64 | Temp in kaitangata is 54 \n",
      "Processing Record 65 | Temp in tucuman is 80.6 \n",
      "Processing Record 66 | Temp in rikitea is 76.77 \n",
      "Data not found in record:67, Skipping...\n",
      "Processing Record 67 | Temp in leshukonskoye is 16.92 \n",
      "Processing Record 68 | Temp in cayenne is 84.2 \n",
      "Processing Record 69 | Temp in plettenberg bay is 70.03 \n",
      "Processing Record 70 | Temp in porbandar is 70.88 \n",
      "Processing Record 71 | Temp in coquimbo is 60.8 \n",
      "Data not found in record:72, Skipping...\n",
      "Processing Record 72 | Temp in aden is 79.11 \n",
      "Processing Record 73 | Temp in sitka is 39.2 \n",
      "Processing Record 74 | Temp in butaritari is 80.85 \n",
      "Processing Record 75 | Temp in eureka is 53.13 \n",
      "Processing Record 76 | Temp in chumikan is -7.51 \n",
      "Processing Record 77 | Temp in tuatapere is 46 \n",
      "Processing Record 78 | Temp in lebu is 58.77 \n",
      "Processing Record 79 | Temp in klaksvik is 42.8 \n",
      "Processing Record 80 | Temp in tasiilaq is 21.2 \n",
      "Processing Record 81 | Temp in chuy is 74.62 \n",
      "Processing Record 82 | Temp in jieshi is 55.72 \n",
      "Processing Record 83 | Temp in cotonou is 86 \n",
      "Processing Record 84 | Temp in potiskum is 80.22 \n",
      "Processing Record 85 | Temp in jamestown is 34.95 \n",
      "Processing Record 86 | Temp in benghazi is 64.36 \n",
      "Processing Record 87 | Temp in cabo san lucas is 67.82 \n",
      "Processing Record 88 | Temp in tanout is 76.87 \n",
      "Data not found in record:89, Skipping...\n",
      "Data not found in record:89, Skipping...\n",
      "Processing Record 89 | Temp in montalto uffugo is 53.01 \n",
      "Processing Record 90 | Temp in cedral is 59.94 \n",
      "Processing Record 91 | Temp in ancud is 53.4 \n",
      "Processing Record 92 | Temp in barrow is -18.4 \n",
      "Processing Record 93 | Temp in nizhniy baskunchak is 23.74 \n",
      "Processing Record 94 | Temp in tessalit is 74.14 \n",
      "Processing Record 95 | Temp in tuktoyaktuk is -41.8 \n",
      "Processing Record 96 | Temp in san cristobal is 84.2 \n",
      "Processing Record 97 | Temp in mago is -21.01 \n",
      "Processing Record 98 | Temp in mataura is 46 \n",
      "Processing Record 99 | Temp in ushumun is -5.76 \n",
      "Processing Record 100 | Temp in thompson is -13 \n",
      "Processing Record 101 | Temp in vostok is -11.83 \n",
      "Processing Record 102 | Temp in aklavik is -43.6 \n",
      "Processing Record 103 | Temp in beipiao is 12.67 \n",
      "Processing Record 104 | Temp in marawi is 75 \n",
      "Processing Record 105 | Temp in zhangye is 17.73 \n",
      "Processing Record 106 | Temp in tautira is 75.2 \n",
      "Processing Record 107 | Temp in klamath falls is 36.14 \n",
      "Processing Record 108 | Temp in bethel is 29.93 \n",
      "Processing Record 109 | Temp in hermanus is 75.99 \n",
      "Processing Record 110 | Temp in belaya gora is -31.76 \n",
      "Processing Record 111 | Temp in santa cruz cabralia is 84.2 \n",
      "Processing Record 112 | Temp in sovetskiy is 10.98 \n",
      "Processing Record 113 | Temp in longyearbyen is 5 \n",
      "Processing Record 114 | Temp in ketchikan is 37.4 \n",
      "Data not found in record:115, Skipping...\n",
      "Processing Record 115 | Temp in shimoda is 30.99 \n",
      "Processing Record 116 | Temp in zarate is 72.5 \n",
      "Processing Record 117 | Temp in ambilobe is 76.75 \n",
      "Processing Record 118 | Temp in baykit is -19.73 \n",
      "Processing Record 119 | Temp in vardo is 30.2 \n",
      "Processing Record 120 | Temp in grindavik is 33.8 \n",
      "Processing Record 121 | Temp in puerto escondido is 83.79 \n",
      "Processing Record 122 | Temp in burla is 61.14 \n",
      "Processing Record 123 | Temp in port hedland is 86 \n",
      "Processing Record 124 | Temp in santa maria is 73.4 \n",
      "Processing Record 125 | Temp in carutapera is 87.24 \n",
      "Processing Record 126 | Temp in polczyn-zdroj is 34 \n",
      "Processing Record 127 | Temp in uchiza is 82.63 \n",
      "Processing Record 128 | Temp in khatanga is -33.47 \n",
      "Processing Record 129 | Temp in sao jose da coroa grande is 83.25 \n",
      "Processing Record 130 | Temp in krasnovishersk is 11.17 \n",
      "Processing Record 131 | Temp in niamey is 93.2 \n",
      "Processing Record 132 | Temp in clyde river is -2.2 \n",
      "Data not found in record:133, Skipping...\n",
      "Processing Record 133 | Temp in nicoya is 87.8 \n",
      "Processing Record 134 | Temp in fortuna is 51.89 \n",
      "Processing Record 135 | Temp in iqaluit is 1.2 \n",
      "Processing Record 136 | Temp in ilulissat is 12.2 \n",
      "Processing Record 137 | Temp in aykhal is -32.8 \n",
      "Processing Record 138 | Temp in porto santo is 64.4 \n",
      "Processing Record 139 | Temp in millbrook is 53.19 \n",
      "Processing Record 140 | Temp in dikson is -28.7 \n",
      "Processing Record 141 | Temp in irupi is 79.81 \n",
      "Processing Record 142 | Temp in okakarara is 81.52 \n",
      "Processing Record 143 | Temp in bredasdorp is 71.6 \n",
      "Processing Record 144 | Temp in nhulunbuy is 78.8 \n",
      "Data not found in record:145, Skipping...\n",
      "Processing Record 145 | Temp in mana is 81.28 \n",
      "Processing Record 146 | Temp in vila is 51.01 \n",
      "Processing Record 147 | Temp in severo-kurilsk is 27.86 \n",
      "Processing Record 148 | Temp in presidente medici is 91.04 \n",
      "Processing Record 149 | Temp in kimbe is 76.03 \n",
      "Processing Record 150 | Temp in nuuk is 24.4 \n",
      "Processing Record 151 | Temp in rocha is 69.69 \n",
      "Processing Record 152 | Temp in hilo is 67.82 \n"
     ]
    },
    {
     "name": "stdout",
     "output_type": "stream",
     "text": [
      "Processing Record 153 | Temp in yulara is 71.6 \n",
      "Processing Record 154 | Temp in hastings is 46.4 \n",
      "Processing Record 155 | Temp in batagay-alyta is -28.55 \n",
      "Processing Record 156 | Temp in cape town is 73.13 \n",
      "Processing Record 157 | Temp in olafsvik is 30.38 \n",
      "Processing Record 158 | Temp in mehamn is 30.2 \n",
      "Processing Record 159 | Temp in alyangula is 78.8 \n",
      "Processing Record 160 | Temp in camana is 72.16 \n",
      "Processing Record 161 | Temp in dunedin is 52 \n",
      "Processing Record 162 | Temp in llanes is 57.15 \n",
      "Processing Record 163 | Temp in kavaratti is 82.02 \n",
      "Processing Record 164 | Temp in vila franca do campo is 62.6 \n",
      "Processing Record 165 | Temp in lermontovka is -2.22 \n",
      "Processing Record 166 | Temp in klaeng is 68.5 \n",
      "Processing Record 167 | Temp in mahebourg is 78.8 \n",
      "Processing Record 168 | Temp in moree is 71.6 \n",
      "Data not found in record:169, Skipping...\n",
      "Processing Record 169 | Temp in deputatskiy is -26.09 \n",
      "Processing Record 170 | Temp in san patricio is 59.13 \n",
      "Processing Record 171 | Temp in juneau is 33.03 \n",
      "Processing Record 172 | Temp in sale is 61.11 \n",
      "Processing Record 173 | Temp in balclutha is 54 \n",
      "Processing Record 174 | Temp in nioro is 97.43 \n",
      "Processing Record 175 | Temp in puerto baquerizo moreno is 75.2 \n",
      "Data not found in record:176, Skipping...\n",
      "Processing Record 176 | Temp in madimba is 82.4 \n",
      "Processing Record 177 | Temp in westport is 33.19 \n",
      "Processing Record 178 | Temp in luyang is 36.16 \n",
      "Processing Record 179 | Temp in fort nelson is -9.4 \n",
      "Processing Record 180 | Temp in georgetown is 78.4 \n",
      "Processing Record 181 | Temp in norman wells is -29.2 \n",
      "Processing Record 182 | Temp in pisco is 70.75 \n",
      "Processing Record 183 | Temp in guerrero negro is 63.72 \n",
      "Processing Record 184 | Temp in luderitz is 69.8 \n",
      "Processing Record 185 | Temp in lorengau is 82.13 \n",
      "Processing Record 186 | Temp in torbay is 26.82 \n",
      "Processing Record 187 | Temp in trairi is 87.46 \n",
      "Processing Record 188 | Temp in mar del plata is 56.26 \n",
      "Processing Record 189 | Temp in brae is 46.4 \n",
      "Processing Record 190 | Temp in alice springs is 73.4 \n",
      "Processing Record 191 | Temp in tera is 89.51 \n",
      "Data not found in record:192, Skipping...\n",
      "Processing Record 192 | Temp in jaisalmer is 61.32 \n",
      "Data not found in record:193, Skipping...\n",
      "Processing Record 193 | Temp in gat is 59.34 \n",
      "Processing Record 194 | Temp in chara is -2.45 \n",
      "Processing Record 195 | Temp in east london is 73.4 \n",
      "Processing Record 196 | Temp in upernavik is 9.18 \n",
      "Processing Record 197 | Temp in kholtoson is 1.63 \n",
      "Processing Record 198 | Temp in ponta do sol is 62.11 \n",
      "Processing Record 199 | Temp in saskylakh is -41.24 \n",
      "Processing Record 200 | Temp in sokol is 33.12 \n",
      "Processing Record 201 | Temp in port elizabeth is 71.6 \n",
      "Data not found in record:202, Skipping...\n",
      "Processing Record 202 | Temp in pandan is 79.5 \n",
      "Processing Record 203 | Temp in broken hill is 69.8 \n",
      "Data not found in record:204, Skipping...\n",
      "Processing Record 204 | Temp in fallon is 21.2 \n",
      "Processing Record 205 | Temp in bilibino is -19.66 \n",
      "Processing Record 206 | Temp in wisconsin rapids is 26.2 \n",
      "Processing Record 207 | Temp in bizhbulyak is -3.17 \n",
      "Processing Record 208 | Temp in kirakira is 78.03 \n",
      "Data not found in record:209, Skipping...\n",
      "Processing Record 209 | Temp in oranjemund is 66.47 \n",
      "Processing Record 210 | Temp in voh is 74.32 \n",
      "Processing Record 211 | Temp in comodoro rivadavia is 77 \n",
      "Processing Record 212 | Temp in ramgarh is 53.6 \n",
      "Processing Record 213 | Temp in kralendijk is 84.2 \n",
      "Data not found in record:214, Skipping...\n",
      "Processing Record 214 | Temp in hervey bay is 77 \n",
      "Processing Record 215 | Temp in teya is -11.94 \n",
      "Data not found in record:216, Skipping...\n",
      "Processing Record 216 | Temp in flinders is 66.16 \n",
      "Processing Record 217 | Temp in rudnogorsk is 5.45 \n",
      "Processing Record 218 | Temp in kempsey is 71.01 \n",
      "Processing Record 219 | Temp in valparaiso is 69.24 \n",
      "Processing Record 220 | Temp in sankt johann im pongau is 27.01 \n",
      "Processing Record 221 | Temp in berlevag is 28.31 \n",
      "Data not found in record:222, Skipping...\n",
      "Processing Record 222 | Temp in novo selo is 48 \n",
      "Processing Record 223 | Temp in hithadhoo is 82.36 \n",
      "Processing Record 224 | Temp in talakan is -6 \n",
      "Processing Record 225 | Temp in upata is 84 \n",
      "Processing Record 226 | Temp in waitati is 52 \n",
      "Processing Record 227 | Temp in makat is 9.54 \n",
      "Data not found in record:228, Skipping...\n",
      "Processing Record 228 | Temp in alenquer is 86 \n",
      "Processing Record 229 | Temp in acapulco is 82.4 \n",
      "Processing Record 230 | Temp in anzio is 53.4 \n",
      "Processing Record 231 | Temp in pelym is 13.64 \n",
      "Processing Record 232 | Temp in turayf is 55.4 \n",
      "Processing Record 233 | Temp in boca do acre is 84.09 \n",
      "Data not found in record:234, Skipping...\n",
      "Processing Record 234 | Temp in bam is 48.25 \n",
      "Processing Record 235 | Temp in maceio is 87.8 \n",
      "Processing Record 236 | Temp in arraial do cabo is 90.12 \n",
      "Processing Record 237 | Temp in dinhata is 62.44 \n",
      "Processing Record 238 | Temp in constitucion is 67.05 \n",
      "Processing Record 239 | Temp in mayo is 43.11 \n",
      "Processing Record 240 | Temp in pevek is -6.7 \n",
      "Processing Record 241 | Temp in vestmannaeyjar is 32 \n",
      "Processing Record 242 | Temp in brattleboro is 27.12 \n",
      "Processing Record 243 | Temp in denpasar is 80.6 \n",
      "Processing Record 244 | Temp in okhotsk is -15.03 \n",
      "Processing Record 245 | Temp in naze is 59 \n",
      "Processing Record 246 | Temp in venice is 74.61 \n",
      "Processing Record 247 | Temp in dudinka is -31 \n",
      "Processing Record 248 | Temp in atambua is 75.81 \n",
      "Processing Record 249 | Temp in xining is 9.93 \n",
      "Processing Record 250 | Temp in nanga eboko is 81.95 \n",
      "Processing Record 251 | Temp in izhma is 5.14 \n",
      "Processing Record 252 | Temp in pyaozerskiy is 35.89 \n",
      "Processing Record 253 | Temp in cidreira is 80.46 \n",
      "Processing Record 254 | Temp in mount isa is 75.2 \n",
      "Processing Record 255 | Temp in port hardy is 43.52 \n",
      "Processing Record 256 | Temp in natchitoches is 53.6 \n",
      "Processing Record 257 | Temp in mumford is 81.46 \n",
      "Processing Record 258 | Temp in asau is 34 \n",
      "Processing Record 259 | Temp in atlantic beach is 59.97 \n",
      "Processing Record 260 | Temp in koygorodok is 12.79 \n",
      "Processing Record 261 | Temp in estelle is 58.14 \n",
      "Processing Record 262 | Temp in puerto carreno is 89.15 \n",
      "Processing Record 263 | Temp in pascagoula is 56.95 \n",
      "Processing Record 264 | Temp in hasaki is 28.02 \n",
      "Processing Record 265 | Temp in prescott is 46.74 \n",
      "Processing Record 266 | Temp in san antonio suchitepequez is 80.17 \n",
      "Processing Record 267 | Temp in alta floresta is 93.67 \n",
      "Processing Record 268 | Temp in muli is 81.79 \n",
      "Data not found in record:269, Skipping...\n",
      "Processing Record 269 | Temp in ginda is 49.46 \n",
      "Processing Record 270 | Temp in ilheus is 87.8 \n",
      "Processing Record 271 | Temp in kvarkeno is -4.36 \n",
      "Processing Record 272 | Temp in baijiantan is 9.18 \n",
      "Processing Record 273 | Temp in talnakh is -31 \n",
      "Data not found in record:274, Skipping...\n",
      "Processing Record 274 | Temp in balaipungut is 75.2 \n",
      "Data not found in record:275, Skipping...\n",
      "Processing Record 275 | Temp in vangaindrano is 76.37 \n",
      "Processing Record 276 | Temp in elat is 68 \n",
      "Processing Record 277 | Temp in codrington is 46.42 \n",
      "Processing Record 278 | Temp in aswan is 69.12 \n",
      "Processing Record 279 | Temp in tomarovka is 26.6 \n",
      "Processing Record 280 | Temp in saint-jovite is 26.6 \n",
      "Processing Record 281 | Temp in dicabisagan is 74.88 \n",
      "Processing Record 282 | Temp in saint-leu is 74.41 \n",
      "Processing Record 283 | Temp in paraiso is 75.34 \n",
      "Processing Record 284 | Temp in hirara is 66.04 \n",
      "Processing Record 285 | Temp in bambous virieux is 78.89 \n",
      "Processing Record 286 | Temp in donegal is 44.6 \n",
      "Processing Record 287 | Temp in tiksi is -22.25 \n",
      "Processing Record 288 | Temp in kavieng is 83.64 \n",
      "Processing Record 289 | Temp in natal is 84.15 \n",
      "Processing Record 290 | Temp in champerico is 81.37 \n",
      "Processing Record 291 | Temp in krasnoselkup is -7.35 \n",
      "Processing Record 292 | Temp in niksic is 44.2 \n",
      "Processing Record 293 | Temp in sandpoint is 43.77 \n",
      "Processing Record 294 | Temp in calvinia is 87.35 \n",
      "Processing Record 295 | Temp in rio gallegos is 75.2 \n",
      "Processing Record 296 | Temp in trondheim is 45.59 \n",
      "Processing Record 297 | Temp in vilyuysk is -32.26 \n",
      "Processing Record 298 | Temp in antofagasta is 70.43 \n",
      "Processing Record 299 | Temp in guarumal is 85.03 \n",
      "Processing Record 300 | Temp in hamilton is 41.11 \n"
     ]
    },
    {
     "name": "stdout",
     "output_type": "stream",
     "text": [
      "Processing Record 301 | Temp in gazanjyk is 38.98 \n",
      "Processing Record 302 | Temp in nagato is 37 \n",
      "Data not found in record:303, Skipping...\n",
      "Processing Record 303 | Temp in banda aceh is 78.48 \n",
      "Processing Record 304 | Temp in salalah is 77 \n",
      "Processing Record 305 | Temp in brokopondo is 84.38 \n",
      "Processing Record 306 | Temp in gainesville is 61.3 \n",
      "Processing Record 307 | Temp in qinhuangdao is 20.98 \n",
      "Processing Record 308 | Temp in plouzane is 50 \n",
      "Processing Record 309 | Temp in caranavi is 79.21 \n",
      "Data not found in record:310, Skipping...\n",
      "Processing Record 310 | Temp in ambon is 82.45 \n",
      "Processing Record 311 | Temp in hvolsvollur is 32 \n",
      "Processing Record 312 | Temp in victoria is 56.79 \n",
      "Processing Record 313 | Temp in sosnovka is 1.51 \n",
      "Processing Record 314 | Temp in tambo is 48.94 \n",
      "Processing Record 315 | Temp in hovd is 4.01 \n",
      "Processing Record 316 | Temp in hefei is 30.2 \n",
      "Processing Record 317 | Temp in tabou is 81.66 \n",
      "Processing Record 318 | Temp in oistins is 84.2 \n",
      "Processing Record 319 | Temp in stepnyak is 1.22 \n",
      "Processing Record 320 | Temp in sumter is 65.07 \n",
      "Processing Record 321 | Temp in hohoe is 86.7 \n",
      "Processing Record 322 | Temp in port hawkesbury is 30.43 \n",
      "Processing Record 323 | Temp in waipawa is 56.71 \n",
      "Processing Record 324 | Temp in laguna is 34.43 \n",
      "Processing Record 325 | Temp in bilecik is 35.28 \n",
      "Processing Record 326 | Temp in noumea is 74.26 \n",
      "Processing Record 327 | Temp in havoysund is 30.2 \n",
      "Processing Record 328 | Temp in banjar is 80.6 \n",
      "Processing Record 329 | Temp in yanam is 69.26 \n",
      "Processing Record 330 | Temp in pedernales is 84.2 \n",
      "Processing Record 331 | Temp in galdar is 69.26 \n",
      "Processing Record 332 | Temp in makakilo city is 74.41 \n",
      "Processing Record 333 | Temp in cockburn town is 78.03 \n",
      "Processing Record 334 | Temp in coxim is 102.29 \n",
      "Processing Record 335 | Temp in esperance is 55.4 \n",
      "Processing Record 336 | Temp in san nicolas is 76.77 \n",
      "Processing Record 337 | Temp in maldonado is 65.57 \n",
      "Data not found in record:338, Skipping...\n",
      "Processing Record 338 | Temp in vallenar is 86.83 \n",
      "Processing Record 339 | Temp in yumen is 16.05 \n",
      "Processing Record 340 | Temp in turukhansk is -15.86 \n",
      "Processing Record 341 | Temp in walvis bay is 62.8 \n",
      "Processing Record 342 | Temp in narasannapeta is 66.07 \n",
      "Processing Record 343 | Temp in kovdor is 33.46 \n",
      "Processing Record 344 | Temp in ishigaki is 66.97 \n",
      "Processing Record 345 | Temp in novyy svit is 27.82 \n",
      "Processing Record 346 | Temp in vadinsk is 9.32 \n",
      "Processing Record 347 | Temp in wanning is 61.45 \n",
      "Processing Record 348 | Temp in delta del tigre is 67.12 \n",
      "Processing Record 349 | Temp in afantou is 58.96 \n",
      "Processing Record 350 | Temp in henties bay is 63 \n",
      "Processing Record 351 | Temp in havelock is 47.21 \n",
      "Processing Record 352 | Temp in mnogovershinnyy is -18.18 \n",
      "Processing Record 353 | Temp in komsomolskiy is 33.8 \n",
      "Processing Record 354 | Temp in dauphin is 12.2 \n",
      "Data not found in record:355, Skipping...\n",
      "Processing Record 355 | Temp in katherine is 77 \n",
      "Processing Record 356 | Temp in behbahan is 51.8 \n",
      "Data not found in record:357, Skipping...\n",
      "Processing Record 357 | Temp in retz is 36.66 \n",
      "Processing Record 358 | Temp in los llanos de aridane is 65.66 \n",
      "Processing Record 359 | Temp in glendive is 39.2 \n",
      "Processing Record 360 | Temp in mantua is 46.69 \n",
      "Processing Record 361 | Temp in guarapari is 88.41 \n",
      "Processing Record 362 | Temp in hwange is 76.26 \n",
      "Data not found in record:363, Skipping...\n",
      "Processing Record 363 | Temp in machalpur is 61.7 \n",
      "Processing Record 364 | Temp in northam is 43.65 \n",
      "Processing Record 365 | Temp in illela is 83.8 \n",
      "Processing Record 366 | Temp in shekhupura is 53.6 \n",
      "Processing Record 367 | Temp in arden is 46 \n",
      "Data not found in record:368, Skipping...\n",
      "Processing Record 368 | Temp in abnub is 68 \n",
      "Processing Record 369 | Temp in krasnogorskiy is 3.9 \n",
      "Processing Record 370 | Temp in pasighat is 57.88 \n",
      "Processing Record 371 | Temp in olinda is 82.4 \n",
      "Processing Record 372 | Temp in namibe is 70.03 \n",
      "Processing Record 373 | Temp in labelle is 79.11 \n",
      "Processing Record 374 | Temp in bitung is 71.6 \n",
      "Processing Record 375 | Temp in kahului is 70.65 \n",
      "Processing Record 376 | Temp in kitimat is 33.01 \n",
      "Data not found in record:377, Skipping...\n",
      "Processing Record 377 | Temp in tias is 66.2 \n",
      "Processing Record 378 | Temp in progreso is 81 \n",
      "Processing Record 379 | Temp in lavrentiya is -9.35 \n",
      "Processing Record 380 | Temp in honiara is 75.2 \n",
      "Processing Record 381 | Temp in constantine is 50 \n",
      "Processing Record 382 | Temp in ostrovnoy is 27.41 \n",
      "Processing Record 383 | Temp in fairbanks is -4.38 \n",
      "Processing Record 384 | Temp in padang is 77.83 \n",
      "Processing Record 385 | Temp in garowe is 80.94 \n",
      "Processing Record 386 | Temp in dakar is 78.8 \n",
      "Processing Record 387 | Temp in preobrazheniye is 15.35 \n",
      "Processing Record 388 | Temp in jumla is 41.77 \n",
      "Processing Record 389 | Temp in usinsk is -6.12 \n",
      "Processing Record 390 | Temp in bose is 44.71 \n",
      "Processing Record 391 | Temp in marzuq is 71.46 \n",
      "Processing Record 392 | Temp in richards bay is 76.32 \n",
      "Processing Record 393 | Temp in kohlu is 51.1 \n",
      "Processing Record 394 | Temp in tamandare is 83.5 \n",
      "Processing Record 395 | Temp in merauke is 79.3 \n",
      "Processing Record 396 | Temp in tela is 80.6 \n",
      "Processing Record 397 | Temp in chapais is 24.8 \n",
      "Processing Record 398 | Temp in lac du bonnet is 9.12 \n",
      "Processing Record 399 | Temp in eyl is 78.06 \n",
      "Processing Record 400 | Temp in bonavista is 28.4 \n",
      "Processing Record 401 | Temp in chokwe is 81.95 \n",
      "Processing Record 402 | Temp in penticton is 46.15 \n",
      "Processing Record 403 | Temp in sao bento is 94.35 \n",
      "Processing Record 404 | Temp in bathsheba is 84.2 \n",
      "Processing Record 405 | Temp in kudahuvadhoo is 79.88 \n",
      "Processing Record 406 | Temp in road town is 83.46 \n",
      "Processing Record 407 | Temp in geraldton is 69.8 \n",
      "Processing Record 408 | Temp in isangel is 74.95 \n",
      "Processing Record 409 | Temp in marathon is 24.96 \n",
      "Data not found in record:410, Skipping...\n",
      "Processing Record 410 | Temp in santa cruz is 86.68 \n",
      "Processing Record 411 | Temp in shache is 16 \n",
      "Processing Record 412 | Temp in zwedru is 81.45 \n",
      "Processing Record 413 | Temp in bereda is 50.67 \n",
      "Processing Record 414 | Temp in goba is 52.5 \n",
      "Processing Record 415 | Temp in puri is 62.6 \n",
      "Processing Record 416 | Temp in blenheim is 57.6 \n",
      "Processing Record 417 | Temp in bay-khaak is -3.55 \n",
      "Processing Record 418 | Temp in sao desiderio is 90.9 \n",
      "Processing Record 419 | Temp in caravelas is 85.23 \n",
      "Processing Record 420 | Temp in college is -4.32 \n",
      "Processing Record 421 | Temp in caucaia is 83.93 \n",
      "Processing Record 422 | Temp in bria is 80.91 \n",
      "Processing Record 423 | Temp in nalgonda is 67.6 \n",
      "Data not found in record:424, Skipping...\n",
      "Processing Record 424 | Temp in san isidro is 69.35 \n",
      "Processing Record 425 | Temp in oktyabrskoye is 28.2 \n",
      "Processing Record 426 | Temp in rawlins is 26.6 \n",
      "Processing Record 427 | Temp in beloha is 78.1 \n",
      "Processing Record 428 | Temp in kolpashevo is -10.84 \n",
      "Processing Record 429 | Temp in stykkisholmur is 29.35 \n",
      "Processing Record 430 | Temp in funadhoo is 82.99 \n",
      "Processing Record 431 | Temp in aviles is 57.36 \n",
      "Processing Record 432 | Temp in paamiut is 27.48 \n",
      "Processing Record 433 | Temp in uvarovo is 8.01 \n",
      "Processing Record 434 | Temp in guymon is 39.2 \n",
      "Processing Record 435 | Temp in mattru is 85.68 \n",
      "Processing Record 436 | Temp in oriximina is 90.5 \n",
      "Processing Record 437 | Temp in wonthaggi is 52.43 \n",
      "Processing Record 438 | Temp in malaya vishera is 33.71 \n",
      "Processing Record 439 | Temp in ust-maya is -29.7 \n",
      "Processing Record 440 | Temp in molteno is 72.45 \n",
      "Processing Record 441 | Temp in corralillo is 79.68 \n",
      "Processing Record 442 | Temp in kruisfontein is 73 \n",
      "Processing Record 443 | Temp in stara synyava is 31.69 \n",
      "Processing Record 444 | Temp in governador valadares is 90.46 \n",
      "Processing Record 445 | Temp in balkhash is 11.46 \n",
      "Data not found in record:446, Skipping...\n",
      "Processing Record 446 | Temp in uberlandia is 86.18 \n",
      "Data not found in record:447, Skipping...\n",
      "Processing Record 447 | Temp in praia da vitoria is 65.68 \n",
      "Processing Record 448 | Temp in dombarovskiy is -8.54 \n",
      "Processing Record 449 | Temp in hualmay is 74.05 \n",
      "Processing Record 450 | Temp in ossora is 18.68 \n",
      "Processing Record 451 | Temp in khani is 41 \n",
      "Processing Record 452 | Temp in ukiah is 41.31 \n"
     ]
    },
    {
     "name": "stdout",
     "output_type": "stream",
     "text": [
      "Processing Record 453 | Temp in moorhead is 27.52 \n",
      "Processing Record 454 | Temp in beringovskiy is -7.26 \n",
      "Processing Record 455 | Temp in gboko is 91.04 \n",
      "Processing Record 456 | Temp in fiumicino is 55.02 \n",
      "Processing Record 457 | Temp in udachnyy is -32.8 \n",
      "Processing Record 458 | Temp in ahipara is 60.84 \n",
      "Data not found in record:459, Skipping...\n",
      "Processing Record 459 | Temp in ponta delgada is 62.6 \n",
      "Processing Record 460 | Temp in nikolayevka is 2.57 \n",
      "Processing Record 461 | Temp in micheweni is 81.1 \n",
      "Processing Record 462 | Temp in rio grande city is 66.67 \n",
      "Processing Record 463 | Temp in namatanai is 79.95 \n",
      "Processing Record 464 | Temp in pangnirtung is 8.04 \n",
      "Processing Record 465 | Temp in hit is 56.82 \n",
      "Processing Record 466 | Temp in okha is -10.34 \n",
      "Processing Record 467 | Temp in sao filipe is 75.33 \n",
      "Processing Record 468 | Temp in egvekinot is -12.06 \n",
      "Processing Record 469 | Temp in gravdal is 44.6 \n",
      "Processing Record 470 | Temp in rio bananal is 87.04 \n",
      "Processing Record 471 | Temp in araouane is 73.27 \n",
      "Processing Record 472 | Temp in coihaique is 62.6 \n",
      "Data not found in record:473, Skipping...\n",
      "Processing Record 473 | Temp in sorland is 46.4 \n",
      "Data not found in record:474, Skipping...\n",
      "Processing Record 474 | Temp in axim is 82.49 \n",
      "Processing Record 475 | Temp in huarmey is 74.41 \n",
      "Processing Record 476 | Temp in nouadhibou is 78.8 \n",
      "Processing Record 477 | Temp in cherskiy is -29.11 \n",
      "Processing Record 478 | Temp in sur is 71.1 \n",
      "Processing Record 479 | Temp in sulangan is 82.11 \n",
      "Data not found in record:480, Skipping...\n",
      "Processing Record 480 | Temp in touros is 86 \n",
      "Processing Record 481 | Temp in basoko is 80.74 \n",
      "Processing Record 482 | Temp in lakatoro is 77.31 \n",
      "Processing Record 483 | Temp in daru is 78.51 \n",
      "Processing Record 484 | Temp in valdivia is 62.6 \n",
      "Processing Record 485 | Temp in faanui is 80.2 \n",
      "Processing Record 486 | Temp in boddam is 42.26 \n",
      "Processing Record 487 | Temp in quatre cocos is 78.91 \n",
      "Processing Record 488 | Temp in lingdong is 3.56 \n",
      "Processing Record 489 | Temp in peleduy is -3.33 \n",
      "Processing Record 490 | Temp in harper is 81.48 \n",
      "Processing Record 491 | Temp in chupa is 36.64 \n",
      "Processing Record 492 | Temp in iralaya is 81.81 \n",
      "Processing Record 493 | Temp in nantucket is 45.28 \n",
      "Processing Record 494 | Temp in larsnes is 45.79 \n",
      "Processing Record 495 | Temp in anadyr is -14.35 \n",
      "Data not found in record:496, Skipping...\n",
      "Processing Record 496 | Temp in saint-cyr-sur-loire is 50 \n",
      "Processing Record 497 | Temp in charcas is 56.12 \n",
      "Processing Record 498 | Temp in tabas is 46.4 \n",
      "Processing Record 499 | Temp in mindelo is 77 \n",
      "Processing Record 500 | Temp in korem is 55.8 \n",
      "Processing Record 501 | Temp in suez is 63.36 \n",
      "Processing Record 502 | Temp in port moresby is 75.2 \n",
      "Processing Record 503 | Temp in pontianak is 76.57 \n",
      "Processing Record 504 | Temp in petropavlovka is 2.1 \n",
      "Processing Record 505 | Temp in popondetta is 74.35 \n",
      "Processing Record 506 | Temp in wenzhou is 44.01 \n",
      "Data not found in record:507, Skipping...\n",
      "Processing Record 507 | Temp in baragua is 83.77 \n",
      "Processing Record 508 | Temp in toul is 46.8 \n",
      "Processing Record 509 | Temp in kailua is 73.85 \n",
      "Processing Record 510 | Temp in olkhovka is 1.15 \n",
      "Processing Record 511 | Temp in san javier is 63.28 \n",
      "Processing Record 512 | Temp in rorvik is 44.6 \n",
      "Processing Record 513 | Temp in kieta is 79.74 \n",
      "Processing Record 514 | Temp in magrath is 44.06 \n",
      "Processing Record 515 | Temp in luau is 65.75 \n",
      "Processing Record 516 | Temp in nome is -16.6 \n",
      "Processing Record 517 | Temp in cairns is 79.77 \n",
      "Processing Record 518 | Temp in stokmarknes is 44.6 \n",
      "Data not found in record:519, Skipping...\n",
      "Processing Record 519 | Temp in derby is 42.89 \n",
      "Processing Record 520 | Temp in paris is 48.15 \n",
      "Processing Record 521 | Temp in erzin is 62.01 \n",
      "Processing Record 522 | Temp in barcelos is 55.38 \n",
      "Processing Record 523 | Temp in qiryat shemona is 57.45 \n",
      "Data not found in record:524, Skipping...\n",
      "Processing Record 524 | Temp in cairo is 64.2 \n",
      "Processing Record 525 | Temp in nemuro is 24.6 \n",
      "Processing Record 526 | Temp in hakodate is 24.8 \n",
      "Processing Record 527 | Temp in springbok is 82.81 \n",
      "Processing Record 528 | Temp in haines junction is 15.51 \n",
      "Processing Record 529 | Temp in pangody is -12.35 \n",
      "Processing Record 530 | Temp in mareeba is 76.66 \n",
      "Processing Record 531 | Temp in opuwo is 81.81 \n",
      "Processing Record 532 | Temp in bonthe is 83.34 \n",
      "Data not found in record:533, Skipping...\n",
      "Processing Record 533 | Temp in vysokogornyy is -19.08 \n",
      "Processing Record 534 | Temp in najran is 66.2 \n",
      "Processing Record 535 | Temp in alugan is 81.16 \n",
      "Processing Record 536 | Temp in kabo is 84.54 \n",
      "Processing Record 537 | Temp in entre rios is 90.03 \n",
      "Processing Record 538 | Temp in kununurra is 78.8 \n",
      "Processing Record 539 | Temp in port blair is 80.42 \n",
      "Processing Record 540 | Temp in vila velha is 88.41 \n",
      "Processing Record 541 | Temp in saint-augustin is 22.8 \n",
      "Processing Record 542 | Temp in mogadishu is 79.97 \n",
      "Processing Record 543 | Temp in honningsvag is 30.2 \n",
      "Processing Record 544 | Temp in kongolo is 71.56 \n",
      "Processing Record 545 | Temp in aguimes is 69.3 \n",
      "Processing Record 546 | Temp in aloleng is 78.78 \n",
      "Processing Record 547 | Temp in de-kastri is -8.66 \n",
      "Processing Record 548 | Temp in bridlington is 43.48 \n",
      "Processing Record 549 | Temp in miri is 80.31 \n",
      "Processing Record 550 | Temp in iquitos is 82.4 \n",
      "Processing Record 551 | Temp in verkhnevilyuysk is -28.57 \n",
      "Processing Record 552 | Temp in nouakchott is 82.4 \n",
      "Processing Record 553 | Temp in crawfordsville is 35.02 \n",
      "Processing Record 554 | Temp in jaguarao is 70 \n",
      "Processing Record 555 | Temp in dingle is 76.59 \n",
      "Processing Record 556 | Temp in mugur-aksy is 3.2 \n",
      "Processing Record 557 | Temp in mayumba is 77.99 \n",
      "Processing Record 558 | Temp in tres arroyos is 63.39 \n",
      "Processing Record 559 | Temp in cine is 50 \n",
      "Processing Record 560 | Temp in portland is 49.59 \n",
      "Processing Record 561 | Temp in panaba is 80.55 \n",
      "Data not found in record:562, Skipping...\n",
      "Processing Record 562 | Temp in jian is 39.94 \n",
      "Processing Record 563 | Temp in havre-saint-pierre is 28.4 \n",
      "Data not found in record:564, Skipping...\n",
      "Processing Record 564 | Temp in tual is 84.16 \n",
      "Processing Record 565 | Temp in xichang is 38.08 \n",
      "Processing Record 566 | Temp in darnah is 60.85 \n",
      "Processing Record 567 | Temp in lata is 57.29 \n",
      "Processing Record 568 | Temp in avera is 47.89 \n",
      "Processing Record 569 | Temp in meulaboh is 77.45 \n",
      "Processing Record 570 | Temp in nizwa is 64.49 \n",
      "Processing Record 571 | Temp in kontariotissa is 49.68 \n",
      "Processing Record 572 | Temp in pitimbu is 84.2 \n",
      "Data not found in record:573, Skipping...\n",
      "Processing Record 573 | Temp in gamba is 77.09 \n",
      "Processing Record 574 | Temp in gorontalo is 78.37 \n",
      "Processing Record 575 | Temp in tucuma is 88.81 \n"
     ]
    }
   ],
   "source": [
    "\n",
    "#partial url\n",
    "query_url = f\"{url}appid={weather_api_key}&units={units}&q=\"\n",
    "\n",
    "# Set up lists to hold the info\n",
    "#cities = [\"London\", \"Chicago\"]\n",
    "cty = []\n",
    "lat = []\n",
    "lon = []\n",
    "temp = []\n",
    "temp_max = []\n",
    "humidity = []\n",
    "clouds = []\n",
    "wind_speed = []\n",
    "country = []\n",
    "date = []\n",
    "rec_count = 0\n",
    "\n",
    "# Loop through the list of cities and perform a request for data on each\n",
    "for city in cities:\n",
    "    try:\n",
    "        response = requests.get(query_url + city).json()\n",
    "        cty.append(response['name'])\n",
    "        lat.append(response['coord']['lat'])\n",
    "        lon.append(response['coord']['lon'])\n",
    "        temp.append(response['main']['temp'])\n",
    "        temp_max.append(response['main']['temp_max'])\n",
    "        humidity.append(response['main']['humidity'])\n",
    "        clouds.append(response['clouds']['all'])\n",
    "        wind_speed.append(response['wind']['speed'])\n",
    "        country.append(response['sys']['country'])\n",
    "        date.append(response['dt'])\n",
    "        #print(f\"city:{city}, lat:{lat}, lon:{lon}, max_temp:{temp_max}, humidity:{humidity}, clouds:{clouds}\")\n",
    "        print(f\"Processing Record {rec_count} | Temp in {city} is {temp[rec_count]} \")\n",
    "        rec_count = rec_count + 1\n",
    "    except KeyError:\n",
    "        print(f\"Data not found in record:{rec_count}, Skipping...\")\n",
    "        \n",
    "    "
   ]
  },
  {
   "cell_type": "markdown",
   "metadata": {},
   "source": [
    "### Convert Raw Data to DataFrame\n",
    "* Export the city data into a .csv.\n",
    "* Display the DataFrame"
   ]
  },
  {
   "cell_type": "code",
   "execution_count": null,
   "metadata": {},
   "outputs": [],
   "source": []
  },
  {
   "cell_type": "code",
   "execution_count": 126,
   "metadata": {},
   "outputs": [],
   "source": [
    "# create a data frame from cities, lat, and temp\n",
    "weather_dict = {\n",
    "    \"city\":cty,\n",
    "    \"lat\": lat,\n",
    "    \"lon\": lon,\n",
    "    \"MaxTemp\": temp_max,\n",
    "    \"Humidity\": humidity,\n",
    "    \"Cloudiness\": clouds,\n",
    "    \"WindSpeed\": wind_speed,\n",
    "    \"Country\": country,\n",
    "    \"Date\": date\n",
    "}\n",
    "weather_data = pd.DataFrame(weather_dict)\n",
    "weather_data.head()\n",
    "weather_data.to_csv(output_data_file)\n"
   ]
  },
  {
   "cell_type": "code",
   "execution_count": 125,
   "metadata": {},
   "outputs": [
    {
     "data": {
      "text/html": [
       "<div>\n",
       "<style scoped>\n",
       "    .dataframe tbody tr th:only-of-type {\n",
       "        vertical-align: middle;\n",
       "    }\n",
       "\n",
       "    .dataframe tbody tr th {\n",
       "        vertical-align: top;\n",
       "    }\n",
       "\n",
       "    .dataframe thead th {\n",
       "        text-align: right;\n",
       "    }\n",
       "</style>\n",
       "<table border=\"1\" class=\"dataframe\">\n",
       "  <thead>\n",
       "    <tr style=\"text-align: right;\">\n",
       "      <th></th>\n",
       "      <th>lat</th>\n",
       "      <th>lon</th>\n",
       "      <th>MaxTemp</th>\n",
       "      <th>Humidity</th>\n",
       "      <th>Cloudiness</th>\n",
       "      <th>WindSpeed</th>\n",
       "      <th>Date</th>\n",
       "    </tr>\n",
       "  </thead>\n",
       "  <tbody>\n",
       "    <tr>\n",
       "      <th>count</th>\n",
       "      <td>576.000000</td>\n",
       "      <td>576.000000</td>\n",
       "      <td>576.000000</td>\n",
       "      <td>576.000000</td>\n",
       "      <td>576.000000</td>\n",
       "      <td>576.000000</td>\n",
       "      <td>5.760000e+02</td>\n",
       "    </tr>\n",
       "    <tr>\n",
       "      <th>mean</th>\n",
       "      <td>20.099444</td>\n",
       "      <td>16.188038</td>\n",
       "      <td>51.810972</td>\n",
       "      <td>73.762153</td>\n",
       "      <td>54.392361</td>\n",
       "      <td>8.868698</td>\n",
       "      <td>1.608484e+09</td>\n",
       "    </tr>\n",
       "    <tr>\n",
       "      <th>std</th>\n",
       "      <td>33.432666</td>\n",
       "      <td>89.523819</td>\n",
       "      <td>32.564824</td>\n",
       "      <td>18.627722</td>\n",
       "      <td>37.500129</td>\n",
       "      <td>6.306651</td>\n",
       "      <td>7.123488e+01</td>\n",
       "    </tr>\n",
       "    <tr>\n",
       "      <th>min</th>\n",
       "      <td>-54.800000</td>\n",
       "      <td>-179.170000</td>\n",
       "      <td>-43.600000</td>\n",
       "      <td>7.000000</td>\n",
       "      <td>0.000000</td>\n",
       "      <td>0.200000</td>\n",
       "      <td>1.608484e+09</td>\n",
       "    </tr>\n",
       "    <tr>\n",
       "      <th>25%</th>\n",
       "      <td>-8.675000</td>\n",
       "      <td>-59.717500</td>\n",
       "      <td>32.757500</td>\n",
       "      <td>65.000000</td>\n",
       "      <td>20.000000</td>\n",
       "      <td>4.052500</td>\n",
       "      <td>1.608484e+09</td>\n",
       "    </tr>\n",
       "    <tr>\n",
       "      <th>50%</th>\n",
       "      <td>23.715000</td>\n",
       "      <td>17.660000</td>\n",
       "      <td>62.010000</td>\n",
       "      <td>78.000000</td>\n",
       "      <td>62.500000</td>\n",
       "      <td>6.930000</td>\n",
       "      <td>1.608484e+09</td>\n",
       "    </tr>\n",
       "    <tr>\n",
       "      <th>75%</th>\n",
       "      <td>48.305000</td>\n",
       "      <td>93.187500</td>\n",
       "      <td>78.487500</td>\n",
       "      <td>88.000000</td>\n",
       "      <td>90.000000</td>\n",
       "      <td>11.990000</td>\n",
       "      <td>1.608484e+09</td>\n",
       "    </tr>\n",
       "    <tr>\n",
       "      <th>max</th>\n",
       "      <td>78.220000</td>\n",
       "      <td>179.320000</td>\n",
       "      <td>102.880000</td>\n",
       "      <td>100.000000</td>\n",
       "      <td>100.000000</td>\n",
       "      <td>34.450000</td>\n",
       "      <td>1.608485e+09</td>\n",
       "    </tr>\n",
       "  </tbody>\n",
       "</table>\n",
       "</div>"
      ],
      "text/plain": [
       "              lat         lon     MaxTemp    Humidity  Cloudiness   WindSpeed  \\\n",
       "count  576.000000  576.000000  576.000000  576.000000  576.000000  576.000000   \n",
       "mean    20.099444   16.188038   51.810972   73.762153   54.392361    8.868698   \n",
       "std     33.432666   89.523819   32.564824   18.627722   37.500129    6.306651   \n",
       "min    -54.800000 -179.170000  -43.600000    7.000000    0.000000    0.200000   \n",
       "25%     -8.675000  -59.717500   32.757500   65.000000   20.000000    4.052500   \n",
       "50%     23.715000   17.660000   62.010000   78.000000   62.500000    6.930000   \n",
       "75%     48.305000   93.187500   78.487500   88.000000   90.000000   11.990000   \n",
       "max     78.220000  179.320000  102.880000  100.000000  100.000000   34.450000   \n",
       "\n",
       "               Date  \n",
       "count  5.760000e+02  \n",
       "mean   1.608484e+09  \n",
       "std    7.123488e+01  \n",
       "min    1.608484e+09  \n",
       "25%    1.608484e+09  \n",
       "50%    1.608484e+09  \n",
       "75%    1.608484e+09  \n",
       "max    1.608485e+09  "
      ]
     },
     "execution_count": 125,
     "metadata": {},
     "output_type": "execute_result"
    }
   ],
   "source": [
    "weather_data.describe()"
   ]
  },
  {
   "cell_type": "markdown",
   "metadata": {},
   "source": [
    "## Inspect the data and remove the cities where the humidity > 100%.\n",
    "----\n",
    "Skip this step if there are no cities that have humidity > 100%. "
   ]
  },
  {
   "cell_type": "code",
   "execution_count": 76,
   "metadata": {},
   "outputs": [
    {
     "data": {
      "text/html": [
       "<div>\n",
       "<style scoped>\n",
       "    .dataframe tbody tr th:only-of-type {\n",
       "        vertical-align: middle;\n",
       "    }\n",
       "\n",
       "    .dataframe tbody tr th {\n",
       "        vertical-align: top;\n",
       "    }\n",
       "\n",
       "    .dataframe thead th {\n",
       "        text-align: right;\n",
       "    }\n",
       "</style>\n",
       "<table border=\"1\" class=\"dataframe\">\n",
       "  <thead>\n",
       "    <tr style=\"text-align: right;\">\n",
       "      <th></th>\n",
       "      <th>lat</th>\n",
       "      <th>lon</th>\n",
       "      <th>MaxTemp</th>\n",
       "      <th>Humidity</th>\n",
       "      <th>Cloudiness</th>\n",
       "      <th>WindSpeed</th>\n",
       "      <th>Date</th>\n",
       "    </tr>\n",
       "  </thead>\n",
       "  <tbody>\n",
       "    <tr>\n",
       "      <th>count</th>\n",
       "      <td>576.000000</td>\n",
       "      <td>576.000000</td>\n",
       "      <td>576.000000</td>\n",
       "      <td>576.000000</td>\n",
       "      <td>576.000000</td>\n",
       "      <td>576.000000</td>\n",
       "      <td>5.760000e+02</td>\n",
       "    </tr>\n",
       "    <tr>\n",
       "      <th>mean</th>\n",
       "      <td>20.099444</td>\n",
       "      <td>16.188038</td>\n",
       "      <td>51.810972</td>\n",
       "      <td>73.762153</td>\n",
       "      <td>54.392361</td>\n",
       "      <td>8.868698</td>\n",
       "      <td>1.608484e+09</td>\n",
       "    </tr>\n",
       "    <tr>\n",
       "      <th>std</th>\n",
       "      <td>33.432666</td>\n",
       "      <td>89.523819</td>\n",
       "      <td>32.564824</td>\n",
       "      <td>18.627722</td>\n",
       "      <td>37.500129</td>\n",
       "      <td>6.306651</td>\n",
       "      <td>7.123488e+01</td>\n",
       "    </tr>\n",
       "    <tr>\n",
       "      <th>min</th>\n",
       "      <td>-54.800000</td>\n",
       "      <td>-179.170000</td>\n",
       "      <td>-43.600000</td>\n",
       "      <td>7.000000</td>\n",
       "      <td>0.000000</td>\n",
       "      <td>0.200000</td>\n",
       "      <td>1.608484e+09</td>\n",
       "    </tr>\n",
       "    <tr>\n",
       "      <th>25%</th>\n",
       "      <td>-8.675000</td>\n",
       "      <td>-59.717500</td>\n",
       "      <td>32.757500</td>\n",
       "      <td>65.000000</td>\n",
       "      <td>20.000000</td>\n",
       "      <td>4.052500</td>\n",
       "      <td>1.608484e+09</td>\n",
       "    </tr>\n",
       "    <tr>\n",
       "      <th>50%</th>\n",
       "      <td>23.715000</td>\n",
       "      <td>17.660000</td>\n",
       "      <td>62.010000</td>\n",
       "      <td>78.000000</td>\n",
       "      <td>62.500000</td>\n",
       "      <td>6.930000</td>\n",
       "      <td>1.608484e+09</td>\n",
       "    </tr>\n",
       "    <tr>\n",
       "      <th>75%</th>\n",
       "      <td>48.305000</td>\n",
       "      <td>93.187500</td>\n",
       "      <td>78.487500</td>\n",
       "      <td>88.000000</td>\n",
       "      <td>90.000000</td>\n",
       "      <td>11.990000</td>\n",
       "      <td>1.608484e+09</td>\n",
       "    </tr>\n",
       "    <tr>\n",
       "      <th>max</th>\n",
       "      <td>78.220000</td>\n",
       "      <td>179.320000</td>\n",
       "      <td>102.880000</td>\n",
       "      <td>100.000000</td>\n",
       "      <td>100.000000</td>\n",
       "      <td>34.450000</td>\n",
       "      <td>1.608485e+09</td>\n",
       "    </tr>\n",
       "  </tbody>\n",
       "</table>\n",
       "</div>"
      ],
      "text/plain": [
       "              lat         lon     MaxTemp    Humidity  Cloudiness   WindSpeed  \\\n",
       "count  576.000000  576.000000  576.000000  576.000000  576.000000  576.000000   \n",
       "mean    20.099444   16.188038   51.810972   73.762153   54.392361    8.868698   \n",
       "std     33.432666   89.523819   32.564824   18.627722   37.500129    6.306651   \n",
       "min    -54.800000 -179.170000  -43.600000    7.000000    0.000000    0.200000   \n",
       "25%     -8.675000  -59.717500   32.757500   65.000000   20.000000    4.052500   \n",
       "50%     23.715000   17.660000   62.010000   78.000000   62.500000    6.930000   \n",
       "75%     48.305000   93.187500   78.487500   88.000000   90.000000   11.990000   \n",
       "max     78.220000  179.320000  102.880000  100.000000  100.000000   34.450000   \n",
       "\n",
       "               Date  \n",
       "count  5.760000e+02  \n",
       "mean   1.608484e+09  \n",
       "std    7.123488e+01  \n",
       "min    1.608484e+09  \n",
       "25%    1.608484e+09  \n",
       "50%    1.608484e+09  \n",
       "75%    1.608484e+09  \n",
       "max    1.608485e+09  "
      ]
     },
     "execution_count": 76,
     "metadata": {},
     "output_type": "execute_result"
    }
   ],
   "source": [
    "weath_df = weather_data[weather_data[\"Humidity\"] <= 100]\n",
    "weath_df.describe()\n"
   ]
  },
  {
   "cell_type": "code",
   "execution_count": 17,
   "metadata": {},
   "outputs": [
    {
     "data": {
      "text/plain": [
       "Int64Index([], dtype='int64')"
      ]
     },
     "execution_count": 17,
     "metadata": {},
     "output_type": "execute_result"
    }
   ],
   "source": [
    "#  Get the indices of cities that have humidity over 100%.\n"
   ]
  },
  {
   "cell_type": "code",
   "execution_count": 19,
   "metadata": {},
   "outputs": [
    {
     "data": {
      "text/html": [
       "<div>\n",
       "<style scoped>\n",
       "    .dataframe tbody tr th:only-of-type {\n",
       "        vertical-align: middle;\n",
       "    }\n",
       "\n",
       "    .dataframe tbody tr th {\n",
       "        vertical-align: top;\n",
       "    }\n",
       "\n",
       "    .dataframe thead th {\n",
       "        text-align: right;\n",
       "    }\n",
       "</style>\n",
       "<table border=\"1\" class=\"dataframe\">\n",
       "  <thead>\n",
       "    <tr style=\"text-align: right;\">\n",
       "      <th></th>\n",
       "      <th>City</th>\n",
       "      <th>Lat</th>\n",
       "      <th>Lng</th>\n",
       "      <th>Max Temp</th>\n",
       "      <th>Humidity</th>\n",
       "      <th>Cloudiness</th>\n",
       "      <th>Wind Speed</th>\n",
       "      <th>Country</th>\n",
       "      <th>Date</th>\n",
       "    </tr>\n",
       "  </thead>\n",
       "  <tbody>\n",
       "    <tr>\n",
       "      <td>0</td>\n",
       "      <td>butaritari</td>\n",
       "      <td>3.07</td>\n",
       "      <td>172.79</td>\n",
       "      <td>83.32</td>\n",
       "      <td>74</td>\n",
       "      <td>84</td>\n",
       "      <td>10.42</td>\n",
       "      <td>KI</td>\n",
       "      <td>1593605283</td>\n",
       "    </tr>\n",
       "    <tr>\n",
       "      <td>1</td>\n",
       "      <td>yerbogachen</td>\n",
       "      <td>61.28</td>\n",
       "      <td>108.01</td>\n",
       "      <td>79.52</td>\n",
       "      <td>58</td>\n",
       "      <td>20</td>\n",
       "      <td>7.70</td>\n",
       "      <td>RU</td>\n",
       "      <td>1593605121</td>\n",
       "    </tr>\n",
       "    <tr>\n",
       "      <td>2</td>\n",
       "      <td>cape town</td>\n",
       "      <td>-33.93</td>\n",
       "      <td>18.42</td>\n",
       "      <td>73.00</td>\n",
       "      <td>77</td>\n",
       "      <td>27</td>\n",
       "      <td>4.70</td>\n",
       "      <td>ZA</td>\n",
       "      <td>1593605039</td>\n",
       "    </tr>\n",
       "    <tr>\n",
       "      <td>3</td>\n",
       "      <td>touba</td>\n",
       "      <td>8.28</td>\n",
       "      <td>-7.68</td>\n",
       "      <td>79.97</td>\n",
       "      <td>75</td>\n",
       "      <td>82</td>\n",
       "      <td>3.58</td>\n",
       "      <td>CI</td>\n",
       "      <td>1593605284</td>\n",
       "    </tr>\n",
       "    <tr>\n",
       "      <td>4</td>\n",
       "      <td>jamestown</td>\n",
       "      <td>42.10</td>\n",
       "      <td>-79.24</td>\n",
       "      <td>64.00</td>\n",
       "      <td>88</td>\n",
       "      <td>1</td>\n",
       "      <td>6.93</td>\n",
       "      <td>US</td>\n",
       "      <td>1593605284</td>\n",
       "    </tr>\n",
       "  </tbody>\n",
       "</table>\n",
       "</div>"
      ],
      "text/plain": [
       "          City    Lat     Lng  Max Temp  Humidity  Cloudiness  Wind Speed  \\\n",
       "0   butaritari   3.07  172.79     83.32        74          84       10.42   \n",
       "1  yerbogachen  61.28  108.01     79.52        58          20        7.70   \n",
       "2    cape town -33.93   18.42     73.00        77          27        4.70   \n",
       "3        touba   8.28   -7.68     79.97        75          82        3.58   \n",
       "4    jamestown  42.10  -79.24     64.00        88           1        6.93   \n",
       "\n",
       "  Country        Date  \n",
       "0      KI  1593605283  \n",
       "1      RU  1593605121  \n",
       "2      ZA  1593605039  \n",
       "3      CI  1593605284  \n",
       "4      US  1593605284  "
      ]
     },
     "execution_count": 19,
     "metadata": {},
     "output_type": "execute_result"
    }
   ],
   "source": [
    "# Make a new DataFrame equal to the city data to drop all humidity outliers by index.\n",
    "# Passing \"inplace=False\" will make a copy of the city_data DataFrame, which we call \"clean_city_data\".\n"
   ]
  },
  {
   "cell_type": "code",
   "execution_count": 122,
   "metadata": {},
   "outputs": [
    {
     "data": {
      "text/plain": [
       "'12/20/2020'"
      ]
     },
     "execution_count": 122,
     "metadata": {},
     "output_type": "execute_result"
    }
   ],
   "source": [
    "import datetime\n",
    "dt_used = max(date)\n",
    "#chart_date = print(datetime.datetime.fromtimestamp(dt_used).strftime('%m/%d/%Y'))\n",
    "chart_date = datetime.datetime.fromtimestamp(dt_used).strftime('%m/%d/%Y')\n",
    "chart_date"
   ]
  },
  {
   "cell_type": "code",
   "execution_count": 127,
   "metadata": {},
   "outputs": [
    {
     "data": {
      "image/png": "[encoded data removed]",
      "text/plain": [
       "<Figure size 432x288 with 1 Axes>"
      ]
     },
     "metadata": {
      "needs_background": "light"
     },
     "output_type": "display_data"
    }
   ],
   "source": [
    "# Build a scatter plot for each data type\n",
    "plt.scatter(weath_df[\"lat\"], weath_df[\"MaxTemp\"], marker=\"o\")\n",
    "\n",
    "# Incorporate the other graph properties\n",
    "plt.title(f\"City Latitude vs Max Temperature ({chart_date})\")\n",
    "plt.ylabel(\"Temperature (F)\")\n",
    "plt.xlabel(\"Latitude\")\n",
    "plt.grid(True)\n",
    "\n",
    "# Save the figure\n",
    "plt.savefig(\"images/TemperatureInWorldCities.png\")\n",
    "\n",
    "# Show plot\n",
    "plt.show()\n"
   ]
  },
  {
   "cell_type": "markdown",
   "metadata": {},
   "source": [
    "## Plotting the Data\n",
    "* Use proper labeling of the plots using plot titles (including date of analysis) and axes labels.\n",
    "* Save the plotted figures as .pngs."
   ]
  },
  {
   "cell_type": "markdown",
   "metadata": {},
   "source": [
    "## Latitude vs. Temperature Plot"
   ]
  },
  {
   "cell_type": "code",
   "execution_count": 10,
   "metadata": {
    "scrolled": true
   },
   "outputs": [
    {
     "data": {
      "image/png": "[encoded data removed]",
      "text/plain": [
       "<Figure size 432x288 with 1 Axes>"
      ]
     },
     "metadata": {
      "needs_background": "light"
     },
     "output_type": "display_data"
    }
   ],
   "source": []
  },
  {
   "cell_type": "markdown",
   "metadata": {},
   "source": [
    "## Latitude vs. Humidity Plot"
   ]
  },
  {
   "cell_type": "code",
   "execution_count": 128,
   "metadata": {},
   "outputs": [
    {
     "data": {
      "image/png": "[encoded data removed]",
      "text/plain": [
       "<Figure size 432x288 with 1 Axes>"
      ]
     },
     "metadata": {
      "needs_background": "light"
     },
     "output_type": "display_data"
    }
   ],
   "source": [
    "# Build a scatter plot for each data type\n",
    "plt.scatter(weath_df[\"lat\"], weath_df[\"Humidity\"], marker=\"o\")\n",
    "\n",
    "# Incorporate the other graph properties\n",
    "plt.title(f\"City Latitude vs Humidity ({chart_date})\")\n",
    "plt.ylabel(\"Humidity\")\n",
    "plt.xlabel(\"Latitude\")\n",
    "plt.grid(True)\n",
    "\n",
    "# Save the figure\n",
    "plt.savefig(\"images/HumidityInWorldCities.png\")\n",
    "\n",
    "# Show plot\n",
    "plt.show()"
   ]
  },
  {
   "cell_type": "markdown",
   "metadata": {},
   "source": [
    "## Latitude vs. Cloudiness Plot"
   ]
  },
  {
   "cell_type": "code",
   "execution_count": 129,
   "metadata": {},
   "outputs": [
    {
     "data": {
      "image/png": "[encoded data removed]",
      "text/plain": [
       "<Figure size 432x288 with 1 Axes>"
      ]
     },
     "metadata": {
      "needs_background": "light"
     },
     "output_type": "display_data"
    }
   ],
   "source": [
    "# Build a scatter plot for each data type\n",
    "plt.scatter(weath_df[\"lat\"], weath_df[\"Cloudiness\"], marker=\"o\")\n",
    "\n",
    "# Incorporate the other graph properties\n",
    "plt.title(f\"City Latitude vs Cloudiness ({chart_date})\")\n",
    "plt.ylabel(\"Cloudiness\")\n",
    "plt.xlabel(\"Latitude\")\n",
    "plt.grid(True)\n",
    "\n",
    "# Save the figure\n",
    "plt.savefig(\"images/CloudinessInWorldCities.png\")\n",
    "\n",
    "# Show plot\n",
    "plt.show()"
   ]
  },
  {
   "cell_type": "markdown",
   "metadata": {},
   "source": [
    "## Latitude vs. Wind Speed Plot"
   ]
  },
  {
   "cell_type": "code",
   "execution_count": 130,
   "metadata": {},
   "outputs": [
    {
     "data": {
      "image/png": "[encoded data removed]",
      "text/plain": [
       "<Figure size 432x288 with 1 Axes>"
      ]
     },
     "metadata": {
      "needs_background": "light"
     },
     "output_type": "display_data"
    }
   ],
   "source": [
    "# Build a scatter plot for each data type\n",
    "plt.scatter(weath_df[\"lat\"], weath_df[\"WindSpeed\"], marker=\"o\")\n",
    "\n",
    "# Incorporate the other graph properties\n",
    "plt.title(f\"City Latitude vs Wind Speed ({chart_date})\")\n",
    "plt.ylabel(\"Wind Speed\")\n",
    "plt.xlabel(\"Latitude\")\n",
    "plt.grid(True)\n",
    "\n",
    "# Save the figure\n",
    "plt.savefig(\"images/WindSpeedInWorldCities.png\")\n",
    "\n",
    "# Show plot\n",
    "plt.show()"
   ]
  },
  {
   "cell_type": "markdown",
   "metadata": {},
   "source": [
    "## Linear Regression"
   ]
  },
  {
   "cell_type": "code",
   "execution_count": 131,
   "metadata": {},
   "outputs": [],
   "source": [
    "nh_df = weath_df[weath_df[\"lat\"] >= 0]\n",
    "sh_df = weath_df[weath_df[\"lat\"] < 0]"
   ]
  },
  {
   "cell_type": "markdown",
   "metadata": {},
   "source": [
    "####  Northern Hemisphere - Max Temp vs. Latitude Linear Regression"
   ]
  },
  {
   "cell_type": "code",
   "execution_count": 132,
   "metadata": {},
   "outputs": [
    {
     "name": "stdout",
     "output_type": "stream",
     "text": [
      "The r-value is: -0.8510792418715457\n"
     ]
    },
    {
     "data": {
      "image/png": "[encoded data removed]",
      "text/plain": [
       "<Figure size 432x288 with 1 Axes>"
      ]
     },
     "metadata": {
      "needs_background": "light"
     },
     "output_type": "display_data"
    }
   ],
   "source": [
    "## Convert to floats and store Poverty Rate and Bank Count as x and y values\n",
    "x_values = nh_df['lat'].astype('float')\n",
    "y_values = nh_df['MaxTemp'].astype('float')\n",
    "\n",
    "# Run linear regression\n",
    "(slope, intercept, rvalue, pvalue, stderr) = linregress(x_values, y_values)\n",
    "regress_values = x_values * slope + intercept\n",
    "line_eq = \"y = \" + str(round(slope,2)) + \"x + \" + str(round(intercept,2))\n",
    "\n",
    "# Plot scatter plot\n",
    "plt.scatter(x_values,y_values)\n",
    "\n",
    "# Plot regression line\n",
    "plt.plot(x_values,regress_values,\"r-\")\n",
    "plt.annotate(line_eq,(6,10),fontsize=15,color=\"red\")\n",
    "\n",
    "# Label plot\n",
    "plt.xlabel('Latitude')\n",
    "plt.ylabel('Max Temp')\n",
    "\n",
    "# Print r square value\n",
    "print(f\"The r-value is: {rvalue}\")\n",
    "\n",
    "# Show plot\n",
    "plt.show()"
   ]
  },
  {
   "cell_type": "code",
   "execution_count": null,
   "metadata": {},
   "outputs": [],
   "source": []
  },
  {
   "cell_type": "markdown",
   "metadata": {},
   "source": [
    "####  Southern Hemisphere - Max Temp vs. Latitude Linear Regression"
   ]
  },
  {
   "cell_type": "code",
   "execution_count": 133,
   "metadata": {},
   "outputs": [
    {
     "name": "stdout",
     "output_type": "stream",
     "text": [
      "The r-value is: 0.6555338158013694\n"
     ]
    },
    {
     "data": {
      "image/png": "[encoded data removed]",
      "text/plain": [
       "<Figure size 432x288 with 1 Axes>"
      ]
     },
     "metadata": {
      "needs_background": "light"
     },
     "output_type": "display_data"
    }
   ],
   "source": [
    "## Convert to floats and store Poverty Rate and Bank Count as x and y values\n",
    "x_values = sh_df['lat'].astype('float')\n",
    "y_values = sh_df['MaxTemp'].astype('float')\n",
    "\n",
    "# Run linear regression\n",
    "(slope, intercept, rvalue, pvalue, stderr) = linregress(x_values, y_values)\n",
    "regress_values = x_values * slope + intercept\n",
    "line_eq = \"y = \" + str(round(slope,2)) + \"x + \" + str(round(intercept,2))\n",
    "\n",
    "# Plot scatter plot\n",
    "plt.scatter(x_values,y_values)\n",
    "\n",
    "# Plot regression line\n",
    "plt.plot(x_values,regress_values,\"r-\")\n",
    "plt.annotate(line_eq,(6,10),fontsize=15,color=\"red\")\n",
    "\n",
    "# Label plot\n",
    "plt.xlabel('Latitude')\n",
    "plt.ylabel('Max Temp')\n",
    "\n",
    "# Print r square value\n",
    "print(f\"The r-value is: {rvalue}\")\n",
    "\n",
    "# Show plot\n",
    "plt.show()"
   ]
  },
  {
   "cell_type": "markdown",
   "metadata": {},
   "source": [
    "    As expected, the further away we are from the Equator, the colder it gets.\n",
    "    The cities farther away from the Equator in the S. Hemi are not as cold, \n",
    "    possibly indicating that the very southern most points are not inhabited.\n"
   ]
  },
  {
   "cell_type": "markdown",
   "metadata": {},
   "source": [
    "####  Northern Hemisphere - Humidity (%) vs. Latitude Linear Regression"
   ]
  },
  {
   "cell_type": "code",
   "execution_count": 134,
   "metadata": {},
   "outputs": [
    {
     "name": "stdout",
     "output_type": "stream",
     "text": [
      "The r-value is: 0.4091361309665762\n"
     ]
    },
    {
     "data": {
      "image/png": "[encoded data removed]",
      "text/plain": [
       "<Figure size 432x288 with 1 Axes>"
      ]
     },
     "metadata": {
      "needs_background": "light"
     },
     "output_type": "display_data"
    }
   ],
   "source": [
    "## Convert to floats and store Poverty Rate and Bank Count as x and y values\n",
    "x_values = nh_df['lat'].astype('float')\n",
    "y_values = nh_df['Humidity'].astype('float')\n",
    "\n",
    "# Run linear regression\n",
    "(slope, intercept, rvalue, pvalue, stderr) = linregress(x_values, y_values)\n",
    "regress_values = x_values * slope + intercept\n",
    "line_eq = \"y = \" + str(round(slope,2)) + \"x + \" + str(round(intercept,2))\n",
    "\n",
    "# Plot scatter plot\n",
    "plt.scatter(x_values,y_values)\n",
    "\n",
    "# Plot regression line\n",
    "plt.plot(x_values,regress_values,\"r-\")\n",
    "plt.annotate(line_eq,(6,10),fontsize=15,color=\"red\")\n",
    "\n",
    "# Label plot\n",
    "plt.xlabel('Latitude')\n",
    "plt.ylabel('Humidity')\n",
    "\n",
    "# Print r square value\n",
    "print(f\"The r-value is: {rvalue}\")\n",
    "\n",
    "# Show plot\n",
    "plt.show()"
   ]
  },
  {
   "cell_type": "markdown",
   "metadata": {},
   "source": [
    "####  Southern Hemisphere - Humidity (%) vs. Latitude Linear Regression"
   ]
  },
  {
   "cell_type": "code",
   "execution_count": 135,
   "metadata": {},
   "outputs": [
    {
     "name": "stdout",
     "output_type": "stream",
     "text": [
      "The r-value is: 0.13868634773332403\n"
     ]
    },
    {
     "data": {
      "image/png": "[encoded data removed]",
      "text/plain": [
       "<Figure size 432x288 with 1 Axes>"
      ]
     },
     "metadata": {
      "needs_background": "light"
     },
     "output_type": "display_data"
    }
   ],
   "source": [
    "## Convert to floats and store Poverty Rate and Bank Count as x and y values\n",
    "x_values = sh_df['lat'].astype('float')\n",
    "y_values = sh_df['Humidity'].astype('float')\n",
    "\n",
    "# Run linear regression\n",
    "(slope, intercept, rvalue, pvalue, stderr) = linregress(x_values, y_values)\n",
    "regress_values = x_values * slope + intercept\n",
    "line_eq = \"y = \" + str(round(slope,2)) + \"x + \" + str(round(intercept,2))\n",
    "\n",
    "# Plot scatter plot\n",
    "plt.scatter(x_values,y_values)\n",
    "\n",
    "# Plot regression line\n",
    "plt.plot(x_values,regress_values,\"r-\")\n",
    "plt.annotate(line_eq,(6,10),fontsize=15,color=\"red\")\n",
    "\n",
    "# Label plot\n",
    "plt.xlabel('Latitude')\n",
    "plt.ylabel('Humidity')\n",
    "\n",
    "# Print r square value\n",
    "print(f\"The r-value is: {rvalue}\")\n",
    "\n",
    "# Show plot\n",
    "plt.show()"
   ]
  },
  {
   "cell_type": "markdown",
   "metadata": {},
   "source": [
    "On the surface it appears that since the pct Humidity varies so much, Humidity could be more related to \n",
    "other geographic areas such as proximity to water or desert-like conditions"
   ]
  },
  {
   "cell_type": "markdown",
   "metadata": {},
   "source": [
    "####  Northern Hemisphere - Cloudiness (%) vs. Latitude Linear Regression"
   ]
  },
  {
   "cell_type": "code",
   "execution_count": 136,
   "metadata": {},
   "outputs": [
    {
     "name": "stdout",
     "output_type": "stream",
     "text": [
      "The r-value is: 0.20922363425127746\n"
     ]
    },
    {
     "data": {
      "image/png": "[encoded data removed]",
      "text/plain": [
       "<Figure size 432x288 with 1 Axes>"
      ]
     },
     "metadata": {
      "needs_background": "light"
     },
     "output_type": "display_data"
    }
   ],
   "source": [
    "## Convert to floats and store Poverty Rate and Bank Count as x and y values\n",
    "x_values = nh_df['lat'].astype('float')\n",
    "y_values = nh_df['Cloudiness'].astype('float')\n",
    "\n",
    "# Run linear regression\n",
    "(slope, intercept, rvalue, pvalue, stderr) = linregress(x_values, y_values)\n",
    "regress_values = x_values * slope + intercept\n",
    "line_eq = \"y = \" + str(round(slope,2)) + \"x + \" + str(round(intercept,2))\n",
    "\n",
    "# Plot scatter plot\n",
    "plt.scatter(x_values,y_values)\n",
    "\n",
    "# Plot regression line\n",
    "plt.plot(x_values,regress_values,\"r-\")\n",
    "plt.annotate(line_eq,(6,10),fontsize=15,color=\"red\")\n",
    "\n",
    "# Label plot\n",
    "plt.xlabel('Latitude')\n",
    "plt.ylabel('Cloudiness')\n",
    "\n",
    "# Print r square value\n",
    "print(f\"The r-value is: {rvalue}\")\n",
    "\n",
    "# Show plot\n",
    "plt.show()"
   ]
  },
  {
   "cell_type": "markdown",
   "metadata": {},
   "source": [
    "####  Southern Hemisphere - Cloudiness (%) vs. Latitude Linear Regression"
   ]
  },
  {
   "cell_type": "code",
   "execution_count": 137,
   "metadata": {},
   "outputs": [
    {
     "name": "stdout",
     "output_type": "stream",
     "text": [
      "The r-value is: 0.08211423792128195\n"
     ]
    },
    {
     "data": {
      "image/png": "[encoded data removed]",
      "text/plain": [
       "<Figure size 432x288 with 1 Axes>"
      ]
     },
     "metadata": {
      "needs_background": "light"
     },
     "output_type": "display_data"
    }
   ],
   "source": [
    "## Convert to floats and store Poverty Rate and Bank Count as x and y values\n",
    "x_values = sh_df['lat'].astype('float')\n",
    "y_values = sh_df['Cloudiness'].astype('float')\n",
    "\n",
    "# Run linear regression\n",
    "(slope, intercept, rvalue, pvalue, stderr) = linregress(x_values, y_values)\n",
    "regress_values = x_values * slope + intercept\n",
    "line_eq = \"y = \" + str(round(slope,2)) + \"x + \" + str(round(intercept,2))\n",
    "\n",
    "# Plot scatter plot\n",
    "plt.scatter(x_values,y_values)\n",
    "\n",
    "# Plot regression line\n",
    "plt.plot(x_values,regress_values,\"r-\")\n",
    "plt.annotate(line_eq,(6,10),fontsize=15,color=\"red\")\n",
    "\n",
    "# Label plot\n",
    "plt.xlabel('Latitude')\n",
    "plt.ylabel('Cloudiness')\n",
    "\n",
    "# Print r square value\n",
    "print(f\"The r-value is: {rvalue}\")\n",
    "\n",
    "# Show plot\n",
    "plt.show()"
   ]
  },
  {
   "cell_type": "markdown",
   "metadata": {},
   "source": [
    "Cloudiness is most likely due to the time of the year. This data was gathered in December and the \n",
    "Northern Hemisphere has a higher concentration of Cloudiness."
   ]
  },
  {
   "cell_type": "markdown",
   "metadata": {},
   "source": [
    "####  Northern Hemisphere - Wind Speed (mph) vs. Latitude Linear Regression"
   ]
  },
  {
   "cell_type": "code",
   "execution_count": 138,
   "metadata": {},
   "outputs": [
    {
     "name": "stdout",
     "output_type": "stream",
     "text": [
      "The r-value is: 0.05924261675956753\n"
     ]
    },
    {
     "data": {
      "image/png": "[encoded data removed]",
      "text/plain": [
       "<Figure size 432x288 with 1 Axes>"
      ]
     },
     "metadata": {
      "needs_background": "light"
     },
     "output_type": "display_data"
    }
   ],
   "source": [
    "## Convert to floats and store Poverty Rate and Bank Count as x and y values\n",
    "x_values = nh_df['lat'].astype('float')\n",
    "y_values = nh_df['WindSpeed'].astype('float')\n",
    "\n",
    "# Run linear regression\n",
    "(slope, intercept, rvalue, pvalue, stderr) = linregress(x_values, y_values)\n",
    "regress_values = x_values * slope + intercept\n",
    "line_eq = \"y = \" + str(round(slope,2)) + \"x + \" + str(round(intercept,2))\n",
    "\n",
    "# Plot scatter plot\n",
    "plt.scatter(x_values,y_values)\n",
    "\n",
    "# Plot regression line\n",
    "plt.plot(x_values,regress_values,\"r-\")\n",
    "plt.annotate(line_eq,(6,10),fontsize=15,color=\"red\")\n",
    "\n",
    "# Label plot\n",
    "plt.xlabel('Latitude')\n",
    "plt.ylabel('WindSpeed')\n",
    "\n",
    "# Print r square value\n",
    "print(f\"The r-value is: {rvalue}\")\n",
    "\n",
    "# Show plot\n",
    "plt.show()"
   ]
  },
  {
   "cell_type": "markdown",
   "metadata": {},
   "source": [
    "####  Southern Hemisphere - Wind Speed (mph) vs. Latitude Linear Regression"
   ]
  },
  {
   "cell_type": "code",
   "execution_count": 139,
   "metadata": {},
   "outputs": [
    {
     "name": "stdout",
     "output_type": "stream",
     "text": [
      "The r-value is: -0.1813594939418234\n"
     ]
    },
    {
     "data": {
      "image/png": "[encoded data removed]",
      "text/plain": [
       "<Figure size 432x288 with 1 Axes>"
      ]
     },
     "metadata": {
      "needs_background": "light"
     },
     "output_type": "display_data"
    }
   ],
   "source": [
    "## Convert to floats and store Poverty Rate and Bank Count as x and y values\n",
    "x_values = sh_df['lat'].astype('float')\n",
    "y_values = sh_df['WindSpeed'].astype('float')\n",
    "\n",
    "# Run linear regression\n",
    "(slope, intercept, rvalue, pvalue, stderr) = linregress(x_values, y_values)\n",
    "regress_values = x_values * slope + intercept\n",
    "line_eq = \"y = \" + str(round(slope,2)) + \"x + \" + str(round(intercept,2))\n",
    "\n",
    "# Plot scatter plot\n",
    "plt.scatter(x_values,y_values)\n",
    "\n",
    "# Plot regression line\n",
    "plt.plot(x_values,regress_values,\"r-\")\n",
    "plt.annotate(line_eq,(6,10),fontsize=15,color=\"red\")\n",
    "\n",
    "# Label plot\n",
    "plt.xlabel('Latitude')\n",
    "plt.ylabel('WindSpeed')\n",
    "\n",
    "# Print r square value\n",
    "print(f\"The r-value is: {rvalue}\")\n",
    "\n",
    "# Show plot\n",
    "plt.show()"
   ]
  },
  {
   "cell_type": "markdown",
   "metadata": {},
   "source": [
    "Wind speed stays reason"
   ]
  }
 ],
 "metadata": {
  "anaconda-cloud": {},
  "kernel_info": {
   "name": "python3"
  },
  "kernelspec": {
   "display_name": "Python 3",
   "language": "python",
   "name": "python3"
  },
  "language_info": {
   "codemirror_mode": {
    "name": "ipython",
    "version": 3
   },
   "file_extension": ".py",
   "mimetype": "text/x-python",
   "name": "python",
   "nbconvert_exporter": "python",
   "pygments_lexer": "ipython3",
   "version": "3.6.10"
  },
  "latex_envs": {
   "LaTeX_envs_menu_present": true,
   "autoclose": false,
   "autocomplete": true,
   "bibliofile": "biblio.bib",
   "cite_by": "apalike",
   "current_citInitial": 1,
   "eqLabelWithNumbers": true,
   "eqNumInitial": 1,
   "hotkeys": {
    "equation": "Ctrl-E",
    "itemize": "Ctrl-I"
   },
   "labels_anchors": false,
   "latex_user_defs": false,
   "report_style_numbering": false,
   "user_envs_cfg": false
  },
  "nteract": {
   "version": "0.12.3"
  }
 },
 "nbformat": 4,
 "nbformat_minor": 2
}
